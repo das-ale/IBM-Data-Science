{
 "cells": [
  {
   "cell_type": "markdown",
   "id": "223e2040-0005-48d6-a13a-c903f514a1cb",
   "metadata": {},
   "source": [
    "# Data Science Tools and Ecosystem"
   ]
  },
  {
   "cell_type": "markdown",
   "id": "3b6120f6-0959-4507-85ca-93cb2ed53993",
   "metadata": {},
   "source": [
    "In this notebook, Data Science Tools and Ecosystem are summarized"
   ]
  },
  {
   "cell_type": "markdown",
   "id": "2d6b1495-876c-4933-bc63-413e0e1d64ae",
   "metadata": {},
   "source": [
    "**Objectives:**\n",
    "- List popular languages for Data Science\n",
    "- List commonly used libraries\n",
    "- List data science tools\n",
    "- Basic arithmetic expressions"
   ]
  },
  {
   "cell_type": "markdown",
   "id": "1edde454-b901-454d-b60e-9a1130dfb85e",
   "metadata": {},
   "source": [
    "Some of the popular langauges thta Data Scientists use are:\n",
    "1. Python\n",
    "2. R\n",
    "3. JavaScript"
   ]
  },
  {
   "cell_type": "markdown",
   "id": "53347433-06f6-4408-826c-cb8494dba8a8",
   "metadata": {},
   "source": [
    "Some of the commonly used libraries used by Data Scientists include:\n",
    "1. Matplotlib\n",
    "2. Pandas\n",
    "3. Keras"
   ]
  },
  {
   "cell_type": "markdown",
   "id": "16a33ecc-b07a-4d0d-aac6-66b752cf2c8a",
   "metadata": {},
   "source": [
    "|Data Science Tools|\n",
    "|---------------|\n",
    "|JupyterNotebook|\n",
    "|RStudio|\n",
    "|IBM Watson|"
   ]
  },
  {
   "cell_type": "markdown",
   "id": "2a697acf-b472-4ddf-be6f-11d5a4335039",
   "metadata": {},
   "source": [
    "### Below are a few examples of evaluating arithmetic expressions in Python"
   ]
  },
  {
   "cell_type": "code",
   "execution_count": 1,
   "id": "a21a5f4d-2ff1-4182-a490-f49bf7034638",
   "metadata": {},
   "outputs": [
    {
     "data": {
      "text/plain": [
       "17"
      ]
     },
     "execution_count": 1,
     "metadata": {},
     "output_type": "execute_result"
    }
   ],
   "source": [
    "#This is a simple arithmetic expression to multiply then add integers\n",
    "(3*4)+5"
   ]
  },
  {
   "cell_type": "code",
   "execution_count": 2,
   "id": "4f9059fa-c256-4333-9990-8ac57579e61d",
   "metadata": {},
   "outputs": [
    {
     "data": {
      "text/plain": [
       "3.3333333333333335"
      ]
     },
     "execution_count": 2,
     "metadata": {},
     "output_type": "execute_result"
    }
   ],
   "source": [
    "#This will convert 200 minutes to hours by dividing by 60\n",
    "200/60"
   ]
  },
  {
   "cell_type": "markdown",
   "id": "c9526905-deae-46b0-a42b-7f6ecc19a7ed",
   "metadata": {},
   "source": [
    "## Author\n",
    "Daniel Savin Butucaru"
   ]
  },
  {
   "cell_type": "code",
   "execution_count": null,
   "id": "8c8914b5-114a-432f-81ce-efbaa39d8251",
   "metadata": {},
   "outputs": [],
   "source": []
  }
 ],
 "metadata": {
  "kernelspec": {
   "display_name": "Python 3 (ipykernel)",
   "language": "python",
   "name": "python3"
  },
  "language_info": {
   "codemirror_mode": {
    "name": "ipython",
    "version": 3
   },
   "file_extension": ".py",
   "mimetype": "text/x-python",
   "name": "python",
   "nbconvert_exporter": "python",
   "pygments_lexer": "ipython3",
   "version": "3.12.1"
  }
 },
 "nbformat": 4,
 "nbformat_minor": 5
}
